{
 "cells": [
  {
   "cell_type": "markdown",
   "metadata": {},
   "source": [
    "# Dada la siguiente tabla de notas:\n",
    "|   |P1|P2|P3|P4|\n",
    "|--------|---|---|---|--|\n",
    "|Altamira|6,1|6,5|4,9|3,1|\n",
    "|Contreras|2,3|3,9|4,9|6,4|\n",
    "|Fernandez|5,1|2,8|3,1|4,8|\n",
    "|Martinez|2,6|3,4|3,8|5,3|\n",
    "|Valdes|6,3|6,6|3,7|6,9|\n",
    "|Altamira|4,6|4,8|5,3|6,6|\n",
    "\n",
    "Responda las siguientes preguntas: \n",
    "<br>\n",
    "a) ¿Qué nota obtuvo el 1° alumno en la 3° prueba?<br>\n",
    "b) ¿Qué nota obtuvo el 3° alumno en la 1° prueba?<br>\n",
    "c) ¿Cuál es la mejor nota del 4° alumno?<br>\n",
    "d) ¿En qué prueba sacó la nota más baja?<br>\n",
    "e) ¿Quién y en qué prueba sacó la nota más alta?<br>\n",
    "\n"
   ]
  },
  {
   "cell_type": "markdown",
   "metadata": {},
   "source": [
    "# 2. Determine el orden de las siguientes matrices:\n",
    "\n",
    "a)\n",
    "\\begin{bmatrix}\n",
    "-2 & 3 & 1 \\\\\n",
    "0 & 1 & 0\n",
    "\\end{bmatrix}\n",
    "\n",
    "\n",
    "b)\n",
    "\\begin{bmatrix}\n",
    "3 & 2 \\\\\n",
    "4 & -4\n",
    "\\end{bmatrix}\n",
    "\n",
    "c)\n",
    "\\begin{bmatrix}\n",
    "1 & -2 & 0 & 5\n",
    "\\end{bmatrix}\n",
    "\n",
    "d)\n",
    "\\begin{bmatrix}\n",
    "1 & 1 & 1 & 3 \\\\\n",
    "-1 & -1 & -2 & -1 \\\\\n",
    "2 & 3 & -1 & -3\n",
    "\\end{bmatrix}\n",
    "\n",
    "e)\n",
    "\\begin{bmatrix}\n",
    "101\n",
    "\\end{bmatrix}\n",
    "\n",
    "f)\n",
    "\\begin{bmatrix}\n",
    "2 \\\\\n",
    "1\n",
    "\\end{bmatrix}\n"
   ]
  },
  {
   "cell_type": "markdown",
   "metadata": {},
   "source": [
    "# 3. Determine el número de elementos de una matriz de los siguientes órdenes\n",
    "\n",
    "a) 2 × 5  \n",
    "b) 2 × 2  \n",
    "c) 3 × 4  \n",
    "d) 6 × 3  \n",
    "e) m × n  \n",
    "f) n × p  "
   ]
  },
  {
   "cell_type": "markdown",
   "metadata": {},
   "source": [
    "# 4. Tabla de precios\n",
    "\n",
    "| Producto       | Junio | Julio | Agosto | Septiembre |\n",
    "|----------------|-------|-------|--------|------------|\n",
    "| Detergente     | $448  | $452  | $452   | $490       |\n",
    "| Colonia        | $820  | $779  | $799   | $770       |\n",
    "| Lavalosa       | $375  | $375  | $390   | $410       |\n",
    "| Limpiavidrios  | $450  | $430  | $450   | $460       |\n",
    "| Lustramuebles  | $440  | $450  | $430   | $470       |\n",
    "\n",
    "### Preguntas:\n",
    "\n",
    "1. Precio de lavalosa en los meses de agosto y septiembre.  \n",
    "2. Diferencia de precios de limpiavidrios entre junio y septiembre.  \n",
    "3. Porcentaje de cambio de la colonia entre junio y julio.  \n",
    "4. Diferencia de precios entre lavalosa y detergente en el mes de agosto."
   ]
  },
  {
   "cell_type": "markdown",
   "metadata": {},
   "source": [
    "# 5. Dada la matriz:\n",
    "\n",
    "\\begin{split}\n",
    "M = \\begin{bmatrix}\n",
    "1 & 3 & -1 \\\\\n",
    "4 & 2 & 1 \\\\\n",
    "3 & -2 & 1 \\\\\n",
    "5 & 2 & -1\n",
    "\\end{bmatrix}\n",
    "\\end{split}\n",
    "\n",
    "### Preguntas:\n",
    "\n",
    "1. Determine el orden de M. \n",
    "2. Escriba los elementos $m_{12} , m_{31}, m_{24}, m_{33} $\n",
    "3. Escriba los elementos de la 5ª fila.  \n",
    "4. Escriba los elementos de la 3ª columna.  \n",
    "5. Calcule $m_{34} - 3 \\cdot m_{43} $.\n",
    "6. Calcule $m_{11} + m_{22} + m_{33} + m_{44}$."
   ]
  },
  {
   "cell_type": "markdown",
   "metadata": {},
   "source": [
    "# 6. Escriba una matriz con los siguientes elementos:\n",
    "\n",
    "Elementos: -3, 2, 5, 0, 3, 1, 9, 12, -3, -5, 1, 0  \n",
    "(Los elementos están leídos por filas)\n",
    "\n",
    "### Pregunta:\n",
    "\n",
    "¿Cuál es el orden de la matriz si tiene los siguientes tamaños?\n",
    "\n",
    "- 2 × 6  \n",
    "- 3 × 4  \n",
    "- 4 × 3  \n",
    "- 6 × 2  "
   ]
  }
 ],
 "metadata": {
  "language_info": {
   "name": "python"
  }
 },
 "nbformat": 4,
 "nbformat_minor": 2
}
