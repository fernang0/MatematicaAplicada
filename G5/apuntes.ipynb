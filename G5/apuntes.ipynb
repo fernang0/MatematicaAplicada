{
 "cells": [
  {
   "cell_type": "markdown",
   "metadata": {},
   "source": [
    "# Suma matrices\n",
    "\n",
    "$$\n",
    "c_{ij} = a_{ij} + b{ij}\n",
    "$$"
   ]
  },
  {
   "cell_type": "code",
   "execution_count": 3,
   "metadata": {},
   "outputs": [
    {
     "name": "stdout",
     "output_type": "stream",
     "text": [
      "[[11.  6.  1.]\n",
      " [-1.  3. 16.]]\n",
      "\n",
      "\n",
      "\n",
      "2\n",
      "3\n"
     ]
    }
   ],
   "source": [
    "import numpy as np;\n",
    "\n",
    "e = np.array([[8,2,1],\n",
    "              [-5,6,7]]);\n",
    "f = np.array([[3,4,0],\n",
    "              [4,-3,9]]);\n",
    "g = np.zeros([2,3]);\n",
    "\n",
    "\n",
    "for i in range(len(e)):\n",
    "    for j in range(len(e[0])):\n",
    "        g[i][j] = e[i][j] + f[i][j];\n",
    "print(g);"
   ]
  },
  {
   "cell_type": "markdown",
   "metadata": {},
   "source": [
    "# Ponderacion por escalar\n",
    "\n",
    "$$\n",
    "b_{ij} = k \\cdot a_{ij}\n",
    "$$\n",
    "\n",
    "multiplicar una matriz por un escalar k"
   ]
  },
  {
   "cell_type": "code",
   "execution_count": 6,
   "metadata": {},
   "outputs": [
    {
     "name": "stdout",
     "output_type": "stream",
     "text": [
      "[[ 50.  40.  45.]\n",
      " [ 30.  85.  80.]\n",
      " [140.  55.  15.]\n",
      " [ 60.  35.  70.]\n",
      " [ 45.  20.  75.]]\n"
     ]
    }
   ],
   "source": [
    "import numpy as np;\n",
    "\n",
    "M = np.array([[20,16,18], \n",
    "              [12,34,32], \n",
    "              [56,22,6], \n",
    "              [24,14,28], \n",
    "              [18,8,30]]);\n",
    "k = 2.5;\n",
    "P = np.zeros([len(M), len(M[0])]);\n",
    "\n",
    "for i in range(len(M)):\n",
    "    for j in range(len(M[0])):\n",
    "        P[i][j] = k * M[i][j];\n",
    "print(P)"
   ]
  },
  {
   "cell_type": "markdown",
   "metadata": {},
   "source": [
    "# Matriz transpuesta\n",
    "$$\n",
    "b_{ij} = a_{ji}, i = 1, 2, ..., n; j = 1, 2, ..., m\n",
    "$$"
   ]
  },
  {
   "cell_type": "code",
   "execution_count": 1,
   "metadata": {},
   "outputs": [
    {
     "name": "stdout",
     "output_type": "stream",
     "text": [
      "[[0. 0. 0.]\n",
      " [0. 0. 0.]]\n",
      "\n",
      "\n",
      "\n",
      "[[3. 5. 2.]\n",
      " [8. 1. 6.]]\n"
     ]
    }
   ],
   "source": [
    "import numpy as np;\n",
    "\n",
    "A = np.array([[3,8], \n",
    "              [5,1], \n",
    "              [2,6]]);\n",
    "At = np.zeros([len(A[0]),len(A)]);\n",
    "\n",
    "print(At)\n",
    "\n",
    "for i in range(len(At)):\n",
    "    for j in range(len(At[0])):\n",
    "        At[i][j] = A[j][i];\n",
    "print(\"\\n\\n\");\n",
    "print(At)"
   ]
  }
 ],
 "metadata": {
  "kernelspec": {
   "display_name": "fernan",
   "language": "python",
   "name": "fernan"
  },
  "language_info": {
   "codemirror_mode": {
    "name": "ipython",
    "version": 3
   },
   "file_extension": ".py",
   "mimetype": "text/x-python",
   "name": "python",
   "nbconvert_exporter": "python",
   "pygments_lexer": "ipython3",
   "version": "3.12.6"
  }
 },
 "nbformat": 4,
 "nbformat_minor": 2
}
