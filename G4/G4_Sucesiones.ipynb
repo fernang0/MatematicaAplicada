{
  "cells": [
    {
      "cell_type": "markdown",
      "metadata": {
        "id": "Jsg7AmugfdN3"
      },
      "source": [
        "# Problema 1"
      ]
    },
    {
      "cell_type": "markdown",
      "metadata": {
        "id": "_IzpNklvfgKe"
      },
      "source": [
        "Considere la sucesión $a_{n} = 3n^{2} + 7$. Por medio de un código en *Python* despliega en pantalla:\n",
        "\n",
        "1. Los primeros $5$ términos.\n",
        "2. Los $5$ términos que vienen inmediatamente después del decimoquinto término."
      ]
    },
    {
      "cell_type": "code",
      "execution_count": 1,
      "metadata": {},
      "outputs": [
        {
          "name": "stdout",
          "output_type": "stream",
          "text": [
            "10\n",
            "19\n",
            "34\n",
            "55\n",
            "82\n",
            "\n",
            "\n",
            "\n",
            "775\n",
            "874\n",
            "979\n",
            "1090\n",
            "1207\n"
          ]
        }
      ],
      "source": [
        "def a(n):\n",
        "    return 3*n**2+7;\n",
        "for i in range(1,6,1):\n",
        "    print(a(i));\n",
        "print(\"\\n\\n\")\n",
        "for n in range(16,21,1):\n",
        "    print(a(n));"
      ]
    },
    {
      "cell_type": "markdown",
      "metadata": {
        "id": "MpHLoYWfk97E"
      },
      "source": [
        "# Problema 2"
      ]
    },
    {
      "cell_type": "markdown",
      "metadata": {
        "id": "TdrPqS7Mk_l0"
      },
      "source": [
        "Considere la sucesión $g_{n} = 5n^{3}$. Implemente un código en *Python* que muestre en pantalla:\n",
        "\n",
        "1. Los primeros $4$ términos de la sucesión.\n",
        "2. Los $4$ términos que vienen inmediatamente después del octavo término.\n",
        "3. Determinar si el término $40.000$ pertenece a la sucesión. Si es así, indicar en qué posición se encuentra."
      ]
    },
    {
      "cell_type": "code",
      "execution_count": 1,
      "metadata": {},
      "outputs": [
        {
          "name": "stdout",
          "output_type": "stream",
          "text": [
            "5\n",
            "40\n",
            "135\n",
            "320\n"
          ]
        }
      ],
      "source": [
        "def g(n):\n",
        "    return 5*n**3;\n",
        "\n",
        "for i in range(1,5):\n",
        "    print(g(i))"
      ]
    },
    {
      "cell_type": "code",
      "execution_count": 6,
      "metadata": {},
      "outputs": [
        {
          "name": "stdout",
          "output_type": "stream",
          "text": [
            "3645\n",
            "5000\n",
            "6655\n",
            "8640\n"
          ]
        }
      ],
      "source": [
        "def g(n):\n",
        "    return 5*n**3;\n",
        "\n",
        "for i in range(9,13):\n",
        "    print(g(i))"
      ]
    },
    {
      "cell_type": "code",
      "execution_count": 7,
      "metadata": {},
      "outputs": [
        {
          "name": "stdout",
          "output_type": "stream",
          "text": [
            "EL termino 40.000 pertenece a la sucesion y su posicion es 20\n"
          ]
        }
      ],
      "source": [
        "def g(n):\n",
        "    return 5*n**3;\n",
        "for i in range(1,110):\n",
        "    if g(i) == 40000:\n",
        "        print(f\"EL termino 40.000 pertenece a la sucesion y su posicion es {i}\");\n",
        "        break;"
      ]
    },
    {
      "cell_type": "markdown",
      "metadata": {
        "id": "7GDU-KDLuR7i"
      },
      "source": [
        "# Problema 3"
      ]
    },
    {
      "cell_type": "markdown",
      "metadata": {
        "id": "GG1duXd1uU6Z"
      },
      "source": [
        "La sucesión de Fibonacci es una serie de números en la que cada número, desde el tercero en adelante, es la suma de los dos anteriores. Comienza con el $0$ y $1$, tal como se observa a continuación:\n",
        "\n",
        "$$0, 1, 1, 2, 3, 5, 8, 13, ...$$\n",
        "\n",
        "Formalmente, la sucesión se define de la siguiente manera:\n",
        "\n",
        "\\begin{split}\n",
        "F(0) &= 0\\\\\n",
        "F(1) &= 1\\\\\n",
        "F(n) &= F(n - 1) + F(n - 2), \\ \\text{ para $n \\geq 2$}\n",
        "\\end{split}\n",
        "\n",
        "Esta sucesión se utiliza en una variedad de contextos en informática y algoritmos debido a sus propiedades matemáticas y patrones.\n",
        "\n",
        "1. Implementa un código en *Python* que muestre en pantalla los primeros $20$ términos de la sucesión.\n",
        "2. Calcula, utilizando un ciclo *for*, la suma de los primeros $30$ términos de la sucesión de Fibonacci."
      ]
    },
    {
      "cell_type": "code",
      "execution_count": 1,
      "metadata": {},
      "outputs": [
        {
          "name": "stdout",
          "output_type": "stream",
          "text": [
            "0\n",
            "1\n",
            "1\n",
            "2\n",
            "3\n",
            "5\n",
            "8\n",
            "13\n",
            "21\n",
            "34\n",
            "55\n",
            "89\n",
            "144\n",
            "233\n",
            "377\n",
            "610\n",
            "987\n",
            "1597\n",
            "2584\n",
            "4181\n",
            "6765\n",
            "\n",
            "\n",
            "\n",
            "\n",
            "2178308\n"
          ]
        }
      ],
      "source": [
        "def fibonacci(n):\n",
        "    if n == 0:\n",
        "        return 0;\n",
        "    if n == 1:\n",
        "        return 1;\n",
        "    if n >= 2:\n",
        "        return (fibonacci(n-1)+fibonacci(n-2));\n",
        "\n",
        "for i in range(21):\n",
        "    print(fibonacci(i));\n",
        "\n",
        "print(\"\\n\\n\\n\")\n",
        "\n",
        "suma = 0;\n",
        "for n in range(31):\n",
        "    suma += fibonacci(n)\n",
        "print(suma)\n"
      ]
    },
    {
      "cell_type": "markdown",
      "metadata": {
        "id": "OFL3b7nt8Rq_"
      },
      "source": [
        "# Problema 4"
      ]
    },
    {
      "cell_type": "markdown",
      "metadata": {
        "id": "j5QlZQwJSDsZ"
      },
      "source": [
        "Implementa un código que permita guardar en una lista la sucesión de los primeros $n$ números pares, con $n \\geq 1$. Luego, determina:\n",
        "\n",
        "1. ¿Cuál es el valor del décimo término?\n",
        "2. Calcula, utilizando un ciclo *for*, la suma de los primeros $100$ números pares.\n",
        "3. ¿En qué posición se encuentra el número $58$ dentro de la sucesión?"
      ]
    },
    {
      "cell_type": "code",
      "execution_count": 6,
      "metadata": {},
      "outputs": [
        {
          "name": "stdout",
          "output_type": "stream",
          "text": [
            "El decimo numero par es 20\n",
            "10100\n"
          ]
        }
      ],
      "source": [
        "lista = [];\n",
        "n = 1;\n",
        "while(n < 1000):\n",
        "    lista.append(n*2);\n",
        "    n+=1;\n",
        "print(f\"El decimo numero par es {lista[9]}\")"
      ]
    },
    {
      "cell_type": "code",
      "execution_count": 7,
      "metadata": {},
      "outputs": [
        {
          "name": "stdout",
          "output_type": "stream",
          "text": [
            "La suma de los primeros 100 numeros pares es: 10100\n"
          ]
        }
      ],
      "source": [
        "suma = 0;\n",
        "for i in range(100):\n",
        "    suma+=lista[i];\n",
        "print(f\"La suma de los primeros 100 numeros pares es: {suma}\")"
      ]
    },
    {
      "cell_type": "code",
      "execution_count": 11,
      "metadata": {},
      "outputs": [
        {
          "name": "stdout",
          "output_type": "stream",
          "text": [
            "EL numero 58 esta en la posicion: 29\n"
          ]
        }
      ],
      "source": [
        "posicion = 1;\n",
        "for iterador in lista:\n",
        "    if (iterador == 58):\n",
        "        print(f\"EL numero 58 esta en la posicion: {posicion}\")\n",
        "        break;\n",
        "    posicion+=1;"
      ]
    },
    {
      "cell_type": "markdown",
      "metadata": {
        "id": "gBcDYpK2Z3GT"
      },
      "source": [
        "# Problema 5"
      ]
    },
    {
      "cell_type": "markdown",
      "metadata": {
        "id": "eS3i68R4Z6YQ"
      },
      "source": [
        "Un nuevo software tiene $500$ usuarios y se espera que el número de usuarios crezca un $15\\%$ respecto al mes anterior. Considere que $b_{n}$ es el número de usuarios transcurridos $n$ meses.\n",
        "\n",
        "1. Calcula cuántos usuarios tendrá el software al cabo de tres meses. ¿Y al cabo de seis meses?\n",
        "2. Mediante un código en *Pyhton* muestra la cantidad de usuarios que tendrá el software cada mes durante el primer año.\n",
        "2. ¿Cuántos usuarios tendrá en total el software luego de un año? Utilice ciclos *for* para calcular."
      ]
    },
    {
      "cell_type": "code",
      "execution_count": 3,
      "metadata": {},
      "outputs": [
        {
          "name": "stdout",
          "output_type": "stream",
          "text": [
            "575.0\n",
            "\n",
            "\n",
            "\n",
            "575.0\n",
            "661.25\n",
            "760.4374999999999\n",
            "874.5031249999998\n",
            "1005.6785937499997\n",
            "1156.5303828124997\n",
            "1330.0099402343744\n",
            "1529.5114312695305\n",
            "1758.93814595996\n",
            "2022.7788678539537\n",
            "2326.1956980320465\n",
            "2675.125052736853\n"
          ]
        }
      ],
      "source": [
        "def b(n):\n",
        "    return 575*1.15**(n-1)\n",
        "print(b(1))\n",
        "print(\"\\n\\n\")\n",
        "for i in range(1,13):\n",
        "    print(b(i))"
      ]
    },
    {
      "cell_type": "markdown",
      "metadata": {
        "id": "s2hruXWnJDbS"
      },
      "source": [
        "# Problema 6"
      ]
    },
    {
      "cell_type": "markdown",
      "metadata": {
        "id": "hH_VNmA_Og0U"
      },
      "source": [
        "Un estudiante de ingeniería informática planea ahorrar para un proyecto personal. Para esto, el primer mes deposita $\\$12.000$ y cada mes aumenta el depósito en $\\$2.000$. Considere que $a_{i}$ corresponde al depósito mensual del estudiante. Determine:\n",
        "\n",
        "1. Implementa un código que permita mostrar en pantalla lo que depositó mensualmente durante el primer año.\n",
        "2. ¿Cuánto depositó el estudiante en febrero del segundo año?\n",
        "3. ¿Cuál será el total ahorrado al finalizar dos años?"
      ]
    },
    {
      "cell_type": "code",
      "execution_count": 4,
      "metadata": {},
      "outputs": [
        {
          "name": "stdout",
          "output_type": "stream",
          "text": [
            "Mes numero 1 ahorro: 12000\n",
            "Mes numero 2 ahorro: 26000\n",
            "Mes numero 3 ahorro: 42000\n",
            "Mes numero 4 ahorro: 60000\n",
            "Mes numero 5 ahorro: 80000\n",
            "Mes numero 6 ahorro: 102000\n",
            "Mes numero 7 ahorro: 126000\n",
            "Mes numero 8 ahorro: 152000\n",
            "Mes numero 9 ahorro: 180000\n",
            "Mes numero 10 ahorro: 210000\n",
            "Mes numero 11 ahorro: 242000\n",
            "Mes numero 12 ahorro: 276000\n"
          ]
        }
      ],
      "source": [
        "def ahorro(x):\n",
        "    if x == 0:\n",
        "        return 0;\n",
        "    elif x == 1:\n",
        "        return 12000;\n",
        "    elif x >= 2:\n",
        "        return ahorro(x-1)+(2000*(x-1))+ahorro(1)\n",
        "for i in range(1,13,1):\n",
        "    print(f\"Mes numero {i} ahorro: {ahorro(i)}\")"
      ]
    },
    {
      "cell_type": "markdown",
      "metadata": {
        "id": "G9sEfl4rB3e8"
      },
      "source": [
        "# Problema 7"
      ]
    },
    {
      "cell_type": "markdown",
      "metadata": {
        "id": "KZUNnG20CT4F"
      },
      "source": [
        "Por lo general, los proyectos son organizados en varias etapas que deben completarse secuencialmente.\n",
        "\n",
        "La fase inicial de un proyecto de software tiene una duración de $3$ meses y cada fase subsecuente reduce su duración en un $10 \\%$ debido a la experiencia ganada. Determine:\n",
        "\n",
        "1. ¿Cuánto dura la quinta fase?\n",
        "2. Calcula la duración total del proyecto después de $10$ fases."
      ]
    },
    {
      "cell_type": "code",
      "execution_count": 30,
      "metadata": {},
      "outputs": [
        {
          "name": "stdout",
          "output_type": "stream",
          "text": [
            "La quinta fase dura aproximadamente 2.0 meses, lo que en dias serian aproximadamente 59.0 dias\n",
            "La duracion total del proyecto despues de 10 fases es de 19.54 meses, lo que en dias serian aproximadamente 586.0 dias\n"
          ]
        }
      ],
      "source": [
        "def pro(n):\n",
        "    return 3*(1-(10/100))**(n-1);\n",
        "def mesAdia(mes):\n",
        "    return mes*30;\n",
        "print(f\"La quinta fase dura aproximadamente {round(pro(5), 1)} meses, lo que en dias serian aproximadamente {round(mesAdia(pro(5)), 0)} dias\")\n",
        "sumatoria = (3*(1-0.9**10))/(1-0.9);\n",
        "print(f\"La duracion total del proyecto despues de 10 fases es de {round(sumatoria, 2)} meses, lo que en dias serian aproximadamente {round(mesAdia(sumatoria), 0)} dias\")\n"
      ]
    },
    {
      "cell_type": "markdown",
      "metadata": {
        "id": "keVOy_xIlU1E"
      },
      "source": [
        "# Problema 8"
      ]
    },
    {
      "cell_type": "markdown",
      "metadata": {
        "id": "QXrNG-zulXil"
      },
      "source": [
        "En una sucesión aritmética, la diferencia entre un término y el anterior es $4$ y el décimo término es $-20$. Determine:\n",
        "\n",
        "1. El primer término de la sucesión.\n",
        "2. La expresión del término de lugar $n$.\n",
        "3. Utilice un código en *Python* para calcular el término que ocupa el lugar $100$.\n",
        "4. Determinar la posición del número $1.680$ en la secuencia. Calcule utilizando un ciclo *while*."
      ]
    },
    {
      "cell_type": "markdown",
      "metadata": {},
      "source": [
        "$a_{n} = a_{1} + (n-1)d$<br>\n",
        "$d$ = 4<br>\n",
        "$a_{10} = -20$<br>\n",
        "<br>\n",
        "$-20 = a_{1} + (10-1)d$<br>\n",
        "$-20 = a_{1} + 9 \\cdot 4$<br>\n",
        "$-20 = a_{1} + 36$<br><br>\n",
        "$a_{1} = -56$<br>\n",
        "$a_{n} = -56 + (n-1)\\cdot 4$"
      ]
    },
    {
      "cell_type": "code",
      "execution_count": 38,
      "metadata": {},
      "outputs": [
        {
          "name": "stdout",
          "output_type": "stream",
          "text": [
            "340\n",
            "\n",
            "\n",
            "\n",
            "435\n"
          ]
        }
      ],
      "source": [
        "def a(n):\n",
        "    return -56+((n-1)*4)\n",
        "print(a(100))\n",
        "\n",
        "print(\"\\n\\n\")\n",
        "\n",
        "cont = 1;\n",
        "while(a(cont) < 1680):\n",
        "    cont+=1;\n",
        "print(cont)"
      ]
    },
    {
      "cell_type": "markdown",
      "metadata": {
        "id": "gFYqGSbdqoqT"
      },
      "source": [
        "# Problema 9"
      ]
    },
    {
      "cell_type": "markdown",
      "metadata": {
        "id": "UtblbNCYqxOM"
      },
      "source": [
        "El tercer término de una sucesión geométrica es $5$ y el sexto término es $40$. Determine:\n",
        "\n",
        "1. La razón geométrica de la sucesión.\n",
        "2. El primer término de la sucesión.\n",
        "3. La expresión del término de lugar $n$.\n",
        "4. Utilice un código en *Python* para calcular el término que ocupa el lugar $8$.\n",
        "4. ¿Qué lugar ocupa en esta sucesión el término $20.480$? Calcule utilizando un ciclo *while*."
      ]
    },
    {
      "cell_type": "markdown",
      "metadata": {},
      "source": [
        "# 1. Razon geometrica de la sucesion\n",
        "$a_{n} = a_{1}r^{n-1}$<br><br>\n",
        "$a_{3} = 5$<br>\n",
        "$a_{3} = a_{1} \\cdot r^2$<br>\n",
        "$5 = a_{1} \\cdot r^2$<br>\n",
        "$a_{1} = \\frac{5}{r^2}$<br><br>\n",
        "\n",
        "$a_{6} = 40$<br>\n",
        "$a_{6} = a_{1} \\cdot r^5$<br>\n",
        "$40 = \\frac{5}{r^2} \\cdot r^5$<br>\n",
        "$40 = 5 \\cdot r^3$<br>\n",
        "$\\frac{40}{5} = r^3$<br>\n",
        "$8 = r^3$<br>\n",
        "$\\sqrt[3]{8} = \\sqrt[3]{r^3}$<br>\n",
        "$2=r$<br>\n",
        "$r = 2$"
      ]
    },
    {
      "cell_type": "markdown",
      "metadata": {},
      "source": [
        "# 2. Primer termino de la sucesion\n",
        "$a_{1} = \\frac{5}{2^2}$<br><br>\n",
        "$a_{1} = \\frac{5}{4}$<br>"
      ]
    },
    {
      "cell_type": "markdown",
      "metadata": {},
      "source": [
        "# 3. Expresion del termino\n",
        "$a_{n} = \\frac{5}{4} * 2^{n-1}$"
      ]
    },
    {
      "cell_type": "markdown",
      "metadata": {},
      "source": [
        "# 4"
      ]
    },
    {
      "cell_type": "code",
      "execution_count": 2,
      "metadata": {},
      "outputs": [
        {
          "name": "stdout",
          "output_type": "stream",
          "text": [
            "160.0\n"
          ]
        }
      ],
      "source": [
        "def a(n):\n",
        "    return (5/4)*2**(n-1);\n",
        "print(a(8))"
      ]
    },
    {
      "cell_type": "markdown",
      "metadata": {},
      "source": [
        "# 5"
      ]
    },
    {
      "cell_type": "code",
      "execution_count": 3,
      "metadata": {},
      "outputs": [
        {
          "name": "stdout",
          "output_type": "stream",
          "text": [
            "15\n",
            "20480.0\n"
          ]
        }
      ],
      "source": [
        "def a(n):\n",
        "    return (5/4)*2**(n-1);\n",
        "n = 1;\n",
        "while(a(n) < 20480):\n",
        "    n+=1;\n",
        "\n",
        "print(n)\n",
        "print(a(n))"
      ]
    },
    {
      "cell_type": "markdown",
      "metadata": {
        "id": "Ju4J8uWfxQKk"
      },
      "source": [
        "# Problema 10"
      ]
    },
    {
      "cell_type": "markdown",
      "metadata": {
        "id": "F6FPVCXQxTMj"
      },
      "source": [
        "Una empresa de tecnología está optimizando sus servidores. Para ello, mide cada mes las transacciones por segundo (TPS) de sus servidores. Se ha obtenido que el segundo mes, el rendimiento del servidor es $1,2$ miles de TPS y el quinto mes, el rendimiento es de $2,7$ miles de TPS. Determina utilizando un código en *Python*:\n",
        "\n",
        "1. ¿Cuál es el rendimiento el noveno mes?\n",
        "2. ¿En qué mes el rendimiento es de $23,4$ miles de TPS?\n",
        "\n",
        "Utilice dos decimales para el cálculo."
      ]
    },
    {
      "cell_type": "markdown",
      "metadata": {
        "id": "jxQyaJXUCW7m"
      },
      "source": [
        "# Problema 11"
      ]
    },
    {
      "cell_type": "markdown",
      "metadata": {
        "id": "8LdxsBUwDfbf"
      },
      "source": [
        "Una aplicación de redes sociales inició el $1$ de enero y comenzó a ganar usuarios rápidamente. El $3$ de enero tenía $500$ usuarios y el $10$ de enero tenía $1.501$ usuarios. Si el número de usuarios sigue creciendo de manera constante, determine:\n",
        "\n",
        "1. ¿Con cuántos usuarios comenzó a funcionar la aplicación?\n",
        "2. ¿Cuántos usuarios tendrá la aplicación el $31$ de enero?\n",
        "3. Si la aplicación tiene $5.505$ usuarios, ¿cuántos meses lleva funcionando?\n",
        "\n"
      ]
    },
    {
      "cell_type": "markdown",
      "metadata": {
        "id": "zBN3BhYVLLSe"
      },
      "source": [
        "# Problema 12"
      ]
    },
    {
      "cell_type": "markdown",
      "metadata": {
        "id": "kszkhh_GLQN1"
      },
      "source": [
        "Una empresa de publicidad ofrece para un puesto de trabajo un salario inicial y un aumento mensual en una razón constante. Javier se presenta a la entrevista, y el encargado del departamento de recursos humanos le explica que en el segundo mes de trabajo su sueldo será de $\\$402.000$, y que en el tercer mes de trabajo será de $\\$404.010$. Determine:\n",
        "\n",
        "1. El salario aproximado que Javier recibiría en el décimo mes de trabajo en la empresa.\n",
        "2. ¿Cuál sería el ingreso total recibido por los sueldos de Javier durante el tercer año de trabajo?"
      ]
    },
    {
      "cell_type": "markdown",
      "metadata": {
        "id": "-lx5k4b9Y8sD"
      },
      "source": [
        "# Problema 13"
      ]
    },
    {
      "cell_type": "markdown",
      "metadata": {
        "id": "OVuWQuXsY_pp"
      },
      "source": [
        "Una empresa de ciberseguridad capacita trabajadores cada trimestre. En el primer trimestre capacitaron a $30$ trabajadores, en el segundo trimestre a $60$ trabajadores, y en el tercer trimestre a $120$ trabajadores. Si en los siguientes trimestres la empresa mantiene el mismo patrón de crecimiento, determine utilizando *Python*:\n",
        "\n",
        "1. ¿A cuántos trabajadores capacitarán en el octavo trimestre?\n",
        "2. Si la empresa lleva en el mercado $3$ años, ¿a cuántos trabajadores han capacitado en total?"
      ]
    },
    {
      "cell_type": "markdown",
      "metadata": {
        "id": "IM7Xf51G6AXs"
      },
      "source": [
        "# Problema 14"
      ]
    },
    {
      "cell_type": "markdown",
      "metadata": {
        "id": "Ni_4WMQl6OeV"
      },
      "source": [
        "Al llenar un tambor con agua, se registra que durante el minuto $4$ el tambor recibe $128$ litros, y durante el minuto $9$ recibe $88$ litros. Sabiendo que en cada minuto recibe una cantidad $d$ de litros de agua menos que en el minuto anterior, determine:\n",
        "\n",
        "1. ¿En qué instante el tambor deja de recibir agua?\n",
        "2. ¿Cuántos litros recibe en total el tambor?\n",
        "\n",
        "Realice los cálculos anteriores utilizando *Python*."
      ]
    },
    {
      "cell_type": "markdown",
      "metadata": {},
      "source": [
        "Se trata de una Progresion aritmetica ya que cada minuto recibe una cantidad d de litros de agua menos que en el minuto anterior.<br>\n",
        "$d = a_{n} - a_{n-1}$\n",
        "$$\n",
        "a_{4} = 128\\\\\n",
        "\\\\\n",
        "a_{4} = a_{1} + (4-1)d\\\\\n",
        "128 = a_{1}+3d\\\\\n",
        "128 - 3d = a_{1}\\\\\n",
        "a_{1} = 128 - 3d\\\\\n",
        "$$"
      ]
    },
    {
      "cell_type": "markdown",
      "metadata": {},
      "source": [
        "$$\n",
        "a_{9} = 88\\\\\n",
        "\\\\\n",
        "a_{9} = a_{1} + (9-1)d\\\\\n",
        "a_{9} = 128 - 3d + 8d\\\\\n",
        "88 = 128 + 5d\\\\\n",
        "88 - 128 = 5d\\\\\n",
        "-40 = 5d\\\\\n",
        "\\frac{-40}{5} = d\\\\\n",
        "-8 = d\\\\\n",
        "d = -8\\\\\n",
        "$$"
      ]
    },
    {
      "cell_type": "markdown",
      "metadata": {},
      "source": [
        "$$\n",
        "a_{4} = 128\\\\\n",
        "128 = a_{1}+(4 - 1) \\cdot d\\\\\n",
        "128 = a_{1} + 3 \\cdot -8\\\\\n",
        "128 = a_{1} - 24\\\\\n",
        "128 + 24 = a_{1}\\\\\n",
        "152 = a_{1}\\\\\n",
        "a_{1} = 152\\\\\n",
        "a_{9} = 88\\\\\n",
        "88 = a_{1} + (9 - 1) \\cdot d\\\\\n",
        "88 = a_{1} + 8 \\cdot -8\\\\\n",
        "88 = a_{1} - 64\\\\\n",
        "88 + 64 = a_{1}\\\\\n",
        "152 = a_{1}\\\\\n",
        "a_{1} = 152\\\\\n",
        "$$\n",
        "Con esto comprobamos que $a_{1}$ es 152 y d es -8<br> Con toda esta informacion obtenida, procedemos al codigo."
      ]
    },
    {
      "cell_type": "code",
      "execution_count": 6,
      "metadata": {},
      "outputs": [
        {
          "name": "stdout",
          "output_type": "stream",
          "text": [
            "El tambor deja de recibir agua en los: 20 minutos\n"
          ]
        }
      ],
      "source": [
        "def agua(n):\n",
        "    return 152 + ((n-1)*-8)\n",
        "\n",
        "cont = 1;\n",
        "while(agua(cont) > 0):\n",
        "    cont += 1;\n",
        "print(f\"El tambor deja de recibir agua en los: {cont} minutos\");\n"
      ]
    },
    {
      "cell_type": "markdown",
      "metadata": {},
      "source": [
        "Si sabemos que el tambor deja de recibir agua en los 20 minutos y queremos saber el total de litros en total recibe el temabor, debemos obtener la sumatoria en 20. $S_{n}$<br>\n",
        "Podriamos hacerlo con ayuda de las formulas de una Progresion Aritmetica pero, en python es mas sencillo."
      ]
    },
    {
      "cell_type": "code",
      "execution_count": 17,
      "metadata": {},
      "outputs": [
        {
          "name": "stdout",
          "output_type": "stream",
          "text": [
            "El tambor recibe en total 1520 litros\n"
          ]
        }
      ],
      "source": [
        "def agua(n):\n",
        "    return 152 + ((n-1)*-8);\n",
        "suma = 0;\n",
        "for i in range(1,21):\n",
        "    suma += agua(i);\n",
        "print(f\"El tambor recibe en total {suma} litros\")\n"
      ]
    }
  ],
  "metadata": {
    "colab": {
      "provenance": []
    },
    "kernelspec": {
      "display_name": "fernan",
      "language": "python",
      "name": "fernan"
    },
    "language_info": {
      "codemirror_mode": {
        "name": "ipython",
        "version": 3
      },
      "file_extension": ".py",
      "mimetype": "text/x-python",
      "name": "python",
      "nbconvert_exporter": "python",
      "pygments_lexer": "ipython3",
      "version": "3.12.6"
    }
  },
  "nbformat": 4,
  "nbformat_minor": 0
}
